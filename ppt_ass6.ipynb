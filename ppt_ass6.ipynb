{
 "cells": [
  {
   "cell_type": "code",
   "execution_count": 1,
   "id": "dca0635b-00c7-4465-8180-5b9f96d85b73",
   "metadata": {},
   "outputs": [
    {
     "data": {
      "text/plain": [
       "'\\n **uestion 1**\\n\\nA permutation perm of n + 1 integers of all the integers in the range [0, n] can be represented as a string s of length n where:\\n\\n- s[i] == \\'I\\' if perm[i] < perm[i + 1], and\\n- s[i] == \\'D\\' if perm[i] > perm[i + 1].\\n\\nGiven a string s, reconstruct the permutation perm and return it. If there are multiple valid permutations perm, return **any of them**.\\n\\n**Example 1:**\\n\\n**Input:** s = \"IDID\"\\n\\n**Output:**\\n\\n[0,4,1,3,2]\\n\\n'"
      ]
     },
     "execution_count": 1,
     "metadata": {},
     "output_type": "execute_result"
    }
   ],
   "source": [
    "\"\"\"\n",
    " **uestion 1**\n",
    "\n",
    "A permutation perm of n + 1 integers of all the integers in the range [0, n] can be represented as a string s of length n where:\n",
    "\n",
    "- s[i] == 'I' if perm[i] < perm[i + 1], and\n",
    "- s[i] == 'D' if perm[i] > perm[i + 1].\n",
    "\n",
    "Given a string s, reconstruct the permutation perm and return it. If there are multiple valid permutations perm, return **any of them**.\n",
    "\n",
    "**Example 1:**\n",
    "\n",
    "**Input:** s = \"IDID\"\n",
    "\n",
    "**Output:**\n",
    "\n",
    "[0,4,1,3,2]\n",
    "\n",
    "\"\"\""
   ]
  },
  {
   "cell_type": "code",
   "execution_count": 2,
   "id": "bc0befd4-5400-4e2d-b82a-d6ca8db964b8",
   "metadata": {},
   "outputs": [],
   "source": [
    "def findPermutation(s):\n",
    "    n = len(s)\n",
    "    perm = []\n",
    "    low, high = 0, n\n",
    "\n",
    "    for c in s:\n",
    "        if c == 'I':\n",
    "            perm.append(low)\n",
    "            low += 1\n",
    "        elif c == 'D':\n",
    "            perm.append(high)\n",
    "            high -= 1\n",
    "    \n",
    "    # Append the last remaining element\n",
    "    perm.append(low)\n",
    "\n",
    "    return perm\n"
   ]
  },
  {
   "cell_type": "code",
   "execution_count": 3,
   "id": "176ab5bb-e5ec-4fbd-b62d-68eb825a9314",
   "metadata": {},
   "outputs": [
    {
     "name": "stdout",
     "output_type": "stream",
     "text": [
      "[0, 4, 1, 3, 2]\n"
     ]
    }
   ],
   "source": [
    "s = \"IDID\"\n",
    "print(findPermutation(s))\n"
   ]
  },
  {
   "cell_type": "code",
   "execution_count": 4,
   "id": "f3d1ea0b-16b1-46fa-a071-71ce4d157df7",
   "metadata": {},
   "outputs": [
    {
     "data": {
      "text/plain": [
       "'\\n **Question 2**\\n\\nYou are given an m x n integer matrix matrix with the following two properties:\\n\\n- Each row is sorted in non-decreasing order.\\n- The first integer of each row is greater than the last integer of the previous row.\\n\\nGiven an integer target, return true *if* target *is in* matrix *or* false *otherwise*.\\n\\nYou must write a solution in O(log(m * n)) time complexity.\\n\\n'"
      ]
     },
     "execution_count": 4,
     "metadata": {},
     "output_type": "execute_result"
    }
   ],
   "source": [
    "\"\"\"\n",
    " **Question 2**\n",
    "\n",
    "You are given an m x n integer matrix matrix with the following two properties:\n",
    "\n",
    "- Each row is sorted in non-decreasing order.\n",
    "- The first integer of each row is greater than the last integer of the previous row.\n",
    "\n",
    "Given an integer target, return true *if* target *is in* matrix *or* false *otherwise*.\n",
    "\n",
    "You must write a solution in O(log(m * n)) time complexity.\n",
    "\n",
    "\"\"\""
   ]
  },
  {
   "cell_type": "code",
   "execution_count": 5,
   "id": "54a69851-c22e-4f03-bb1d-7c343db9cdbe",
   "metadata": {},
   "outputs": [],
   "source": [
    "def searchMatrix(matrix, target):\n",
    "    m = len(matrix)\n",
    "    n = len(matrix[0])\n",
    "\n",
    "    left = 0\n",
    "    right = m * n - 1\n",
    "\n",
    "    while left <= right:\n",
    "        mid = (left + right) // 2\n",
    "        row = mid // n\n",
    "        col = mid % n\n",
    "\n",
    "        if matrix[row][col] == target:\n",
    "            return True\n",
    "        elif matrix[row][col] < target:\n",
    "            left = mid + 1\n",
    "        else:\n",
    "            right = mid - 1\n",
    "\n",
    "    return False\n"
   ]
  },
  {
   "cell_type": "code",
   "execution_count": 6,
   "id": "de9be36d-ff55-4b39-8b98-ee6fc0916042",
   "metadata": {},
   "outputs": [
    {
     "name": "stdout",
     "output_type": "stream",
     "text": [
      "True\n"
     ]
    }
   ],
   "source": [
    "matrix = [[1, 3, 5, 7], [10, 11, 16, 20], [23, 30, 34, 60]]\n",
    "target = 3\n",
    "print(searchMatrix(matrix, target))\n"
   ]
  },
  {
   "cell_type": "code",
   "execution_count": 7,
   "id": "ee4a2af3-bd96-4086-be1f-7ef604771796",
   "metadata": {},
   "outputs": [
    {
     "data": {
      "text/plain": [
       "'\\n**Question 3**\\n\\nGiven an array of integers arr, return *true if and only if it is a valid mountain array*.\\n\\nRecall that arr is a mountain array if and only if:\\n\\n- arr.length >= 3\\n- There exists some i with 0 < i < arr.length - 1 such that:\\n    - arr[0] < arr[1] < ... < arr[i - 1] < arr[i]\\n    - arr[i] > arr[i + 1] > ... > arr[arr.length - 1]\\n'"
      ]
     },
     "execution_count": 7,
     "metadata": {},
     "output_type": "execute_result"
    }
   ],
   "source": [
    "\"\"\"\n",
    "**Question 3**\n",
    "\n",
    "Given an array of integers arr, return *true if and only if it is a valid mountain array*.\n",
    "\n",
    "Recall that arr is a mountain array if and only if:\n",
    "\n",
    "- arr.length >= 3\n",
    "- There exists some i with 0 < i < arr.length - 1 such that:\n",
    "    - arr[0] < arr[1] < ... < arr[i - 1] < arr[i]\n",
    "    - arr[i] > arr[i + 1] > ... > arr[arr.length - 1]\n",
    "\"\"\""
   ]
  },
  {
   "cell_type": "code",
   "execution_count": 8,
   "id": "53e6ee0c-3bc0-4f2b-bdbd-401299ca8162",
   "metadata": {},
   "outputs": [],
   "source": [
    "def validMountainArray(arr):\n",
    "    n = len(arr)\n",
    "    if n < 3:\n",
    "        return False\n",
    "\n",
    "    left = 0\n",
    "    right = n - 1\n",
    "\n",
    "    while left < n - 1 and arr[left] < arr[left + 1]:\n",
    "        left += 1\n",
    "\n",
    "    while right > 0 and arr[right] < arr[right - 1]:\n",
    "        right -= 1\n",
    "\n",
    "    return left == right and left != 0 and right != n - 1\n"
   ]
  },
  {
   "cell_type": "code",
   "execution_count": 9,
   "id": "2acf83ce-27c3-4749-841d-48aa7e77fc11",
   "metadata": {},
   "outputs": [
    {
     "name": "stdout",
     "output_type": "stream",
     "text": [
      "False\n"
     ]
    }
   ],
   "source": [
    "arr = [2, 1]\n",
    "print(validMountainArray(arr))\n"
   ]
  },
  {
   "cell_type": "code",
   "execution_count": 10,
   "id": "21157949-2353-4c2f-8d21-849ee56a3a57",
   "metadata": {},
   "outputs": [
    {
     "data": {
      "text/plain": [
       "'\\n **Question 4**\\n\\nGiven a binary array nums, return *the maximum length of a contiguous subarray with an equal number of* 0 *and* 1.\\n\\n**Example 1:**\\n\\n**Input:** nums = [0,1]\\n\\n**Output:** 2\\n\\n**Explanation:**\\n\\n[0, 1] is the longest contiguous subarray with an equal number of 0 and 1.\\n\\n'"
      ]
     },
     "execution_count": 10,
     "metadata": {},
     "output_type": "execute_result"
    }
   ],
   "source": [
    "\"\"\"\n",
    " **Question 4**\n",
    "\n",
    "Given a binary array nums, return *the maximum length of a contiguous subarray with an equal number of* 0 *and* 1.\n",
    "\n",
    "**Example 1:**\n",
    "\n",
    "**Input:** nums = [0,1]\n",
    "\n",
    "**Output:** 2\n",
    "\n",
    "**Explanation:**\n",
    "\n",
    "[0, 1] is the longest contiguous subarray with an equal number of 0 and 1.\n",
    "\n",
    "\"\"\""
   ]
  },
  {
   "cell_type": "code",
   "execution_count": 11,
   "id": "3757e2f4-9b9f-47b7-8462-f6f710aadb69",
   "metadata": {},
   "outputs": [],
   "source": [
    "def findMaxLength(nums):\n",
    "    max_length = 0\n",
    "    count = 0\n",
    "    sum_map = {0: -1}\n",
    "\n",
    "    for i in range(len(nums)):\n",
    "        count += 1 if nums[i] == 1 else -1\n",
    "\n",
    "        if count == 0:\n",
    "            max_length = i + 1\n",
    "        elif count in sum_map:\n",
    "            max_length = max(max_length, i - sum_map[count])\n",
    "        else:\n",
    "            sum_map[count] = i\n",
    "\n",
    "    return max_length\n"
   ]
  },
  {
   "cell_type": "code",
   "execution_count": 12,
   "id": "3de03a0d-12a9-4d02-ad56-2e883daf208a",
   "metadata": {},
   "outputs": [
    {
     "name": "stdout",
     "output_type": "stream",
     "text": [
      "2\n"
     ]
    }
   ],
   "source": [
    "nums = [0, 1]\n",
    "print(findMaxLength(nums))\n"
   ]
  },
  {
   "cell_type": "code",
   "execution_count": 13,
   "id": "d9cbeb62-bef4-4e0c-82ae-5d3c0a27ae5f",
   "metadata": {},
   "outputs": [
    {
     "data": {
      "text/plain": [
       "'\\n **Question 5**\\n\\nThe **product sum** of two equal-length arrays a and b is equal to the sum of a[i] * b[i] for all 0 <= i < a.length (**0-indexed**).\\n\\n- For example, if a = [1,2,3,4] and b = [5,2,3,1], the **product sum** would be 1*5 + 2*2 + 3*3 + 4*1 = 22.\\n\\nGiven two arrays nums1 and nums2 of length n, return *the **minimum product sum** if you are allowed to **rearrange** the **order** of the elements in* nums1.\\n\\n**Example 1:**\\n\\n**Input:** nums1 = [5,3,4,2], nums2 = [4,2,2,5]\\n\\n**Output:** 40\\n\\n**Explanation:**\\n\\nWe can rearrange nums1 to become [3,5,4,2]. The product sum of [3,5,4,2] and [4,2,2,5] is 3*4 + 5*2 + 4*2 + 2*5 = 40.\\n\\n'"
      ]
     },
     "execution_count": 13,
     "metadata": {},
     "output_type": "execute_result"
    }
   ],
   "source": [
    "\"\"\"\n",
    " **Question 5**\n",
    "\n",
    "The **product sum** of two equal-length arrays a and b is equal to the sum of a[i] * b[i] for all 0 <= i < a.length (**0-indexed**).\n",
    "\n",
    "- For example, if a = [1,2,3,4] and b = [5,2,3,1], the **product sum** would be 1*5 + 2*2 + 3*3 + 4*1 = 22.\n",
    "\n",
    "Given two arrays nums1 and nums2 of length n, return *the **minimum product sum** if you are allowed to **rearrange** the **order** of the elements in* nums1.\n",
    "\n",
    "**Example 1:**\n",
    "\n",
    "**Input:** nums1 = [5,3,4,2], nums2 = [4,2,2,5]\n",
    "\n",
    "**Output:** 40\n",
    "\n",
    "**Explanation:**\n",
    "\n",
    "We can rearrange nums1 to become [3,5,4,2]. The product sum of [3,5,4,2] and [4,2,2,5] is 3*4 + 5*2 + 4*2 + 2*5 = 40.\n",
    "\n",
    "\"\"\""
   ]
  },
  {
   "cell_type": "code",
   "execution_count": 14,
   "id": "0ec58779-e59d-4830-8ae0-b70c1693ceed",
   "metadata": {},
   "outputs": [],
   "source": [
    "def minProductSum(nums1, nums2):\n",
    "    nums1.sort()\n",
    "    nums2.sort(reverse=True)\n",
    "\n",
    "    min_product_sum = 0\n",
    "    for i in range(len(nums1)):\n",
    "        min_product_sum += nums1[i] * nums2[i]\n",
    "\n",
    "    return min_product_sum\n"
   ]
  },
  {
   "cell_type": "code",
   "execution_count": 15,
   "id": "7bd386a9-c5e7-4bd9-af69-8477645aab99",
   "metadata": {},
   "outputs": [
    {
     "name": "stdout",
     "output_type": "stream",
     "text": [
      "40\n"
     ]
    }
   ],
   "source": [
    "nums1 = [5, 3, 4, 2]\n",
    "nums2 = [4, 2, 2, 5]\n",
    "print(minProductSum(nums1, nums2))\n"
   ]
  },
  {
   "cell_type": "code",
   "execution_count": 16,
   "id": "db2c13b5-5987-4cc7-8b75-3c7f52b47f38",
   "metadata": {},
   "outputs": [
    {
     "data": {
      "text/plain": [
       "'\\n **Question 6**\\n\\nAn integer array original is transformed into a **doubled** array changed by appending **twice the value** of every element in original, and then randomly **shuffling** the resulting array.\\n\\nGiven an array changed, return original *if* changed *is a **doubled** array. If* changed *is not a **doubled** array, return an empty array. The elements in* original *may be returned in **any** order*.\\n\\n**Example 1:**\\n\\n**Input:** changed = [1,3,4,2,6,8]\\n\\n**Output:** [1,3,4]\\n\\n**Explanation:** One possible original array could be [1,3,4]:\\n\\n- Twice the value of 1 is 1 * 2 = 2.\\n- Twice the value of 3 is 3 * 2 = 6.\\n- Twice the value of 4 is 4 * 2 = 8.\\n\\nOther original arrays could be [4,3,1] or [3,1,4].\\n\\n<\\n'"
      ]
     },
     "execution_count": 16,
     "metadata": {},
     "output_type": "execute_result"
    }
   ],
   "source": [
    "\"\"\"\n",
    " **Question 6**\n",
    "\n",
    "An integer array original is transformed into a **doubled** array changed by appending **twice the value** of every element in original, and then randomly **shuffling** the resulting array.\n",
    "\n",
    "Given an array changed, return original *if* changed *is a **doubled** array. If* changed *is not a **doubled** array, return an empty array. The elements in* original *may be returned in **any** order*.\n",
    "\n",
    "**Example 1:**\n",
    "\n",
    "**Input:** changed = [1,3,4,2,6,8]\n",
    "\n",
    "**Output:** [1,3,4]\n",
    "\n",
    "**Explanation:** One possible original array could be [1,3,4]:\n",
    "\n",
    "- Twice the value of 1 is 1 * 2 = 2.\n",
    "- Twice the value of 3 is 3 * 2 = 6.\n",
    "- Twice the value of 4 is 4 * 2 = 8.\n",
    "\n",
    "Other original arrays could be [4,3,1] or [3,1,4].\n",
    "\n",
    "<\n",
    "\"\"\""
   ]
  },
  {
   "cell_type": "code",
   "execution_count": 22,
   "id": "0bf7ecca-72db-45b6-a394-41ae1df8bd86",
   "metadata": {},
   "outputs": [],
   "source": [
    "def findOriginalArray(changed):\n",
    "    count_map = {}\n",
    "    for num in changed:\n",
    "        count_map[num] = count_map.get(num, 0) + 1\n",
    "\n",
    "    original = []\n",
    "    for num in count_map:\n",
    "        if count_map[num] == 0:\n",
    "            continue\n",
    "        if 2 * num not in count_map or count_map[2 * num] == 0:\n",
    "            return []\n",
    "        count_map[num] -= 1\n",
    "        count_map[2 * num] -= 1\n",
    "\n",
    "    for num in count_map:\n",
    "        if count_map[num] > 0:\n",
    "            return []\n",
    "\n",
    "    for num in count_map:\n",
    "        original.extend([num] * count_map[num])\n",
    "\n",
    "    return original\n",
    "\n"
   ]
  },
  {
   "cell_type": "code",
   "execution_count": 23,
   "id": "8dd47233-8dfe-48cc-819f-0d068f136c10",
   "metadata": {},
   "outputs": [
    {
     "name": "stdout",
     "output_type": "stream",
     "text": [
      "[]\n"
     ]
    }
   ],
   "source": [
    "changed = [1, 3, 4, 2, 6, 8]\n",
    "print(findOriginalArray(changed))\n"
   ]
  },
  {
   "cell_type": "code",
   "execution_count": 24,
   "id": "cdebef9f-75be-4b1c-9788-20882c283ee4",
   "metadata": {},
   "outputs": [
    {
     "data": {
      "text/plain": [
       "'\\n **Question 7**\\n\\nGiven a positive integer n, generate an n x n matrix filled with elements from 1 to n2 in spiral order.\\n\\n'"
      ]
     },
     "execution_count": 24,
     "metadata": {},
     "output_type": "execute_result"
    }
   ],
   "source": [
    "\"\"\"\n",
    " **Question 7**\n",
    "\n",
    "Given a positive integer n, generate an n x n matrix filled with elements from 1 to n2 in spiral order.\n",
    "\n",
    "\"\"\""
   ]
  },
  {
   "cell_type": "code",
   "execution_count": 25,
   "id": "8c3f1251-ae7e-422e-a7e5-43e992e1ff7c",
   "metadata": {},
   "outputs": [],
   "source": [
    "def generateMatrix(n):\n",
    "    matrix = [[0] * n for _ in range(n)]\n",
    "    num = 1\n",
    "    top = 0\n",
    "    bottom = n - 1\n",
    "    left = 0\n",
    "    right = n - 1\n",
    "\n",
    "    while num <= n * n:\n",
    "        for i in range(left, right + 1):\n",
    "            matrix[top][i] = num\n",
    "            num += 1\n",
    "        top += 1\n",
    "\n",
    "        for i in range(top, bottom + 1):\n",
    "            matrix[i][right] = num\n",
    "            num += 1\n",
    "        right -= 1\n",
    "\n",
    "        for i in range(right, left - 1, -1):\n",
    "            matrix[bottom][i] = num\n",
    "            num += 1\n",
    "        bottom -= 1\n",
    "\n",
    "        for i in range(bottom, top - 1, -1):\n",
    "            matrix[i][left] = num\n",
    "            num += 1\n",
    "        left += 1\n",
    "\n",
    "    return matrix\n"
   ]
  },
  {
   "cell_type": "code",
   "execution_count": 26,
   "id": "ab0ff688-6aae-48d8-9c9f-0eb65b1de555",
   "metadata": {},
   "outputs": [
    {
     "name": "stdout",
     "output_type": "stream",
     "text": [
      "[[1, 2, 3], [8, 9, 4], [7, 6, 5]]\n"
     ]
    }
   ],
   "source": [
    "n = 3\n",
    "print(generateMatrix(n))\n"
   ]
  },
  {
   "cell_type": "code",
   "execution_count": 27,
   "id": "bd70b4c1-2ffd-4f7a-99f2-4417b9508fa5",
   "metadata": {},
   "outputs": [
    {
     "data": {
      "text/plain": [
       "'\\n **Question 8**\\n\\nGiven two [sparse matrices](https://en.wikipedia.org/wiki/Sparse_matrix) mat1 of size m x k and mat2 of size k x n, return the result of mat1 x mat2. You may assume that multiplication is always possible.\\n\\n'"
      ]
     },
     "execution_count": 27,
     "metadata": {},
     "output_type": "execute_result"
    }
   ],
   "source": [
    "\"\"\"\n",
    " **Question 8**\n",
    "\n",
    "Given two [sparse matrices](https://en.wikipedia.org/wiki/Sparse_matrix) mat1 of size m x k and mat2 of size k x n, return the result of mat1 x mat2. You may assume that multiplication is always possible.\n",
    "\n",
    "\"\"\""
   ]
  },
  {
   "cell_type": "code",
   "execution_count": null,
   "id": "30cd0a1e-4dc9-4d8b-82fa-12ebd85629a0",
   "metadata": {},
   "outputs": [],
   "source": []
  }
 ],
 "metadata": {
  "kernelspec": {
   "display_name": "Python 3 (ipykernel)",
   "language": "python",
   "name": "python3"
  },
  "language_info": {
   "codemirror_mode": {
    "name": "ipython",
    "version": 3
   },
   "file_extension": ".py",
   "mimetype": "text/x-python",
   "name": "python",
   "nbconvert_exporter": "python",
   "pygments_lexer": "ipython3",
   "version": "3.10.6"
  }
 },
 "nbformat": 4,
 "nbformat_minor": 5
}
